{
 "cells": [
  {
   "cell_type": "code",
   "execution_count": 1,
   "id": "moral-center",
   "metadata": {},
   "outputs": [
    {
     "name": "stdout",
     "output_type": "stream",
     "text": [
      "Requirement already satisfied: pandas in /opt/conda/lib/python3.7/site-packages (1.2.3)\n",
      "Requirement already satisfied: geopandas in /opt/conda/lib/python3.7/site-packages (0.9.0)\n",
      "Requirement already satisfied: folium in /opt/conda/lib/python3.7/site-packages (0.12.1)\n",
      "Requirement already satisfied: rtree in /opt/conda/lib/python3.7/site-packages (0.9.7)\n",
      "Requirement already satisfied: requests in /opt/conda/lib/python3.7/site-packages (from folium) (2.25.1)\n",
      "Requirement already satisfied: branca>=0.3.0 in /opt/conda/lib/python3.7/site-packages (from folium) (0.4.2)\n",
      "Requirement already satisfied: jinja2>=2.9 in /opt/conda/lib/python3.7/site-packages (from folium) (2.11.3)\n",
      "Requirement already satisfied: numpy in /opt/conda/lib/python3.7/site-packages (from folium) (1.20.1)\n",
      "Requirement already satisfied: MarkupSafe>=0.23 in /opt/conda/lib/python3.7/site-packages (from jinja2>=2.9->folium) (1.1.1)\n",
      "Requirement already satisfied: pyproj>=2.2.0 in /opt/conda/lib/python3.7/site-packages (from geopandas) (3.1.0)\n",
      "Requirement already satisfied: shapely>=1.6 in /opt/conda/lib/python3.7/site-packages (from geopandas) (1.7.1)\n",
      "Requirement already satisfied: fiona>=1.8 in /opt/conda/lib/python3.7/site-packages (from geopandas) (1.8.20)\n",
      "Requirement already satisfied: python-dateutil>=2.7.3 in /opt/conda/lib/python3.7/site-packages (from pandas) (2.8.1)\n",
      "Requirement already satisfied: pytz>=2017.3 in /opt/conda/lib/python3.7/site-packages (from pandas) (2021.1)\n",
      "Requirement already satisfied: setuptools in /opt/conda/lib/python3.7/site-packages (from fiona>=1.8->geopandas) (49.6.0.post20210108)\n",
      "Requirement already satisfied: click>=4.0 in /opt/conda/lib/python3.7/site-packages (from fiona>=1.8->geopandas) (7.1.2)\n",
      "Requirement already satisfied: attrs>=17 in /opt/conda/lib/python3.7/site-packages (from fiona>=1.8->geopandas) (20.3.0)\n",
      "Requirement already satisfied: click-plugins>=1.0 in /opt/conda/lib/python3.7/site-packages (from fiona>=1.8->geopandas) (1.1.1)\n",
      "Requirement already satisfied: munch in /opt/conda/lib/python3.7/site-packages (from fiona>=1.8->geopandas) (2.5.0)\n",
      "Requirement already satisfied: six>=1.7 in /opt/conda/lib/python3.7/site-packages (from fiona>=1.8->geopandas) (1.15.0)\n",
      "Requirement already satisfied: cligj>=0.5 in /opt/conda/lib/python3.7/site-packages (from fiona>=1.8->geopandas) (0.7.2)\n",
      "Requirement already satisfied: certifi in /opt/conda/lib/python3.7/site-packages (from fiona>=1.8->geopandas) (2021.5.30)\n",
      "Requirement already satisfied: chardet<5,>=3.0.2 in /opt/conda/lib/python3.7/site-packages (from requests->folium) (4.0.0)\n",
      "Requirement already satisfied: urllib3<1.27,>=1.21.1 in /opt/conda/lib/python3.7/site-packages (from requests->folium) (1.26.3)\n",
      "Requirement already satisfied: idna<3,>=2.5 in /opt/conda/lib/python3.7/site-packages (from requests->folium) (2.10)\n"
     ]
    }
   ],
   "source": [
    "! pip install pandas geopandas folium rtree"
   ]
  },
  {
   "cell_type": "code",
   "execution_count": 2,
   "id": "independent-moses",
   "metadata": {},
   "outputs": [],
   "source": [
    "import pandas as pd\n",
    "import geopandas as gpd"
   ]
  },
  {
   "cell_type": "code",
   "execution_count": null,
   "id": "cordless-distributor",
   "metadata": {},
   "outputs": [],
   "source": [
    "SD_cal = pd.read_csv('./San_Diego/calendar.csv.gz', compression='gzip',)\n",
    "SD_lis = pd.read_csv('./San_Diego/listings.csv')\n",
    "SD_nei = pd.read_csv('./San_Diego/neighbourhoods.csv').fillna(0)\n",
    "\n",
    "display(SD_cal.head(5))\n",
    "display(SD_lis.head(5))\n",
    "display(SD_nei.head(5))\n",
    "\n",
    "print(SD_lis.shape)"
   ]
  },
  {
   "cell_type": "code",
   "execution_count": null,
   "id": "floppy-stomach",
   "metadata": {},
   "outputs": [],
   "source": [
    "# for df in [SD_cal, SD_lis, SD_nei]:\n",
    "#     for ccc in range(len(df.columns)):\n",
    "#         display(df.groupby(df.columns[ccc]).agg({df.columns[ccc-1]:'count'}).reset_index())"
   ]
  },
  {
   "cell_type": "code",
   "execution_count": null,
   "id": "editorial-dodge",
   "metadata": {},
   "outputs": [],
   "source": [
    "def my_szn(date):\n",
    "    mon = date.month\n",
    "    day = date.day\n",
    "    \n",
    "    if mon < 3 or mon == 3 and day <=20:\n",
    "        szn='Winter'\n",
    "    elif mon < 6 or mon == 6 and day <=20:\n",
    "        szn = 'Spring'\n",
    "    elif mon < 9 or mon == 9 and day <=20:\n",
    "        szn = 'Summer'\n",
    "    elif mon < 12 or mon == 12 and day <=20:\n",
    "        szn = 'Fall'\n",
    "    else:\n",
    "        szn='Winter'\n",
    "    \n",
    "    return szn\n"
   ]
  },
  {
   "cell_type": "code",
   "execution_count": null,
   "id": "corrected-momentum",
   "metadata": {},
   "outputs": [],
   "source": [
    "SD_cal = SD_cal\n",
    "SD_cal['date'] = pd.to_datetime(SD_cal['date'], infer_datetime_format=True)\n",
    "SD_cal['month'] = SD_cal['date'].dt.month\n",
    "SD_cal['qtr'] = SD_cal['date'].dt.quarter\n",
    "SD_cal['is_weekend'] = SD_cal['date'].dt.weekday >= 4\n",
    "SD_cal['dayofweek'] = SD_cal['date'].dt.dayofweek\n",
    "\n",
    "\n",
    "\n",
    "\n",
    "SD_cal['szn'] = SD_cal.apply(lambda x: my_szn(x['date']), axis=1 )\n",
    "\n"
   ]
  },
  {
   "cell_type": "code",
   "execution_count": null,
   "id": "infinite-arrow",
   "metadata": {},
   "outputs": [],
   "source": [
    "SD_cal_piv = SD_cal.groupby(['listing_id','szn','is_weekend','available'])\\\n",
    "            .agg({'price':'count'}).reset_index()\\\n",
    "            .pivot(['listing_id'],['szn','is_weekend','available'],['price'])\\\n",
    "            .reset_index().fillna(0)\n",
    "\n",
    "SD_cal_piv.columns = SD_cal_piv.columns.to_flat_index()\n",
    "SD_cal_piv.columns = ['listing_id',\n",
    " 'Fall_weekday_f', 'Fall_weekday_t', 'Fall_weekend_f', 'Fall_weekend_t',\n",
    " 'Spring_weekday_f', 'Spring_weekday_t', 'Spring_weekend_f', 'Spring_weekend_t',\n",
    " 'Summer_weekday_f', 'Summer_weekday_t', 'Summer_weekend_f', 'Summer_weekend_t',\n",
    " 'Winter_weekday_f', 'Winter_weekday_t', 'Winter_weekend_f', 'Winter_weekend_t']\n",
    "\n",
    "SD_cal_piv['Fall_weekday'] = SD_cal_piv['Fall_weekday_t']/(SD_cal_piv['Fall_weekday_t']+SD_cal_piv['Fall_weekday_f'])\n",
    "SD_cal_piv['Fall_weekend'] = SD_cal_piv['Fall_weekend_t']/(SD_cal_piv['Fall_weekend_t']+SD_cal_piv['Fall_weekend_f'])\n",
    "\n",
    "SD_cal_piv['Spring_weekday'] = SD_cal_piv['Spring_weekday_t']/(SD_cal_piv['Spring_weekday_t']+SD_cal_piv['Spring_weekday_f'])\n",
    "SD_cal_piv['Spring_weekend'] = SD_cal_piv['Spring_weekend_t']/(SD_cal_piv['Spring_weekend_t']+SD_cal_piv['Spring_weekend_f'])\n",
    "\n",
    "SD_cal_piv['Summer_weekday'] = SD_cal_piv['Summer_weekday_t']/(SD_cal_piv['Summer_weekday_t']+SD_cal_piv['Summer_weekday_f'])\n",
    "SD_cal_piv['Summer_weekend'] = SD_cal_piv['Summer_weekend_t']/(SD_cal_piv['Summer_weekend_t']+SD_cal_piv['Summer_weekend_f'])\n",
    "\n",
    "SD_cal_piv['Winter_weekday'] = SD_cal_piv['Winter_weekday_t']/(SD_cal_piv['Winter_weekday_t']+SD_cal_piv['Winter_weekday_f'])\n",
    "SD_cal_piv['Winter_weekend'] = SD_cal_piv['Winter_weekend_t']/(SD_cal_piv['Winter_weekend_t']+SD_cal_piv['Winter_weekend_f'])\n",
    "\n",
    "SD_cal_piv['Fall'] = SD_cal_piv[[ 'Fall_weekday_t', 'Fall_weekend_t',]].sum(axis=1)/(\n",
    "                        SD_cal_piv[[ 'Fall_weekday_f', 'Fall_weekday_t', 'Fall_weekend_f', 'Fall_weekend_t',]].sum(axis=1))\n",
    "SD_cal_piv['Spring'] = SD_cal_piv[[ 'Spring_weekday_t', 'Spring_weekend_t',]].sum(axis=1)/(\n",
    "                        SD_cal_piv[[ 'Spring_weekday_f', 'Spring_weekday_t', 'Spring_weekend_f', 'Spring_weekend_t',]].sum(axis=1))\n",
    "SD_cal_piv['Summer'] = SD_cal_piv[[ 'Summer_weekday_t', 'Summer_weekend_t',]].sum(axis=1)/(\n",
    "                        SD_cal_piv[[ 'Summer_weekday_f', 'Summer_weekday_t', 'Summer_weekend_f', 'Summer_weekend_t',]].sum(axis=1))\n",
    "SD_cal_piv['Winter'] = SD_cal_piv[[ 'Winter_weekday_t', 'Winter_weekend_t',]].sum(axis=1)/(\n",
    "                        SD_cal_piv[[ 'Winter_weekday_f', 'Winter_weekday_t', 'Winter_weekend_f', 'Winter_weekend_t']].sum(axis=1))\n",
    "\n",
    "\n",
    "SD_cal_piv['Weekday'] = SD_cal_piv[['Fall_weekday_t','Spring_weekday_t','Summer_weekday_t','Winter_weekday_t',]].sum(axis=1)/(\n",
    "                        SD_cal_piv[['Fall_weekday_t','Spring_weekday_t','Summer_weekday_t','Winter_weekday_t',]].sum(axis=1)+\n",
    "                        SD_cal_piv[['Fall_weekday_f','Spring_weekday_f','Summer_weekday_f','Winter_weekday_f',]].sum(axis=1))\n",
    "\n",
    "SD_cal_piv['Weekend'] = SD_cal_piv[['Fall_weekend_t','Spring_weekend_t','Summer_weekend_t','Winter_weekend_t',]].sum(axis=1)/(\n",
    "                        SD_cal_piv[['Fall_weekend_t','Spring_weekend_t','Summer_weekend_t','Winter_weekend_t',]].sum(axis=1)+\n",
    "                        SD_cal_piv[['Fall_weekend_f','Spring_weekend_f','Summer_weekend_f','Winter_weekend_f',]].sum(axis=1))\n",
    "\n",
    "SD_cal_piv['NoVacancy']=SD_cal_piv[['Fall_weekday_t','Spring_weekday_t','Summer_weekday_t','Winter_weekday_t',\n",
    "                                    'Fall_weekend_t','Spring_weekend_t','Summer_weekend_t','Winter_weekend_t',]].sum(axis=1)/(\n",
    "                        SD_cal_piv[['Fall_weekday_t','Spring_weekday_t','Summer_weekday_t','Winter_weekday_t',\n",
    "                                    'Fall_weekend_t','Spring_weekend_t','Summer_weekend_t','Winter_weekend_t',]].sum(axis=1)+\n",
    "                        SD_cal_piv[['Fall_weekday_f','Spring_weekday_f','Summer_weekday_f','Winter_weekday_f',\n",
    "                                    'Fall_weekend_f','Spring_weekend_f','Summer_weekend_f','Winter_weekend_f',]].sum(axis=1))\n",
    "\n",
    "SD_cal_piv['Occupancy']=SD_cal_piv[['Fall_weekday_t','Spring_weekday_t','Summer_weekday_t','Winter_weekday_t',\n",
    "                                    'Fall_weekend_t','Spring_weekend_t','Summer_weekend_t','Winter_weekend_t',]].sum(axis=1)\n",
    "\n",
    "\n",
    "\n",
    "SD_cal_piv = SD_cal_piv[['listing_id','Occupancy','Fall_weekday','Fall_weekend','Spring_weekday','Spring_weekend',\n",
    "                         'Summer_weekday','Summer_weekend','Winter_weekday','Winter_weekend',\n",
    "                         'Fall','Spring','Summer','Winter',\n",
    "                         'Weekday','Weekend','NoVacancy']]\n",
    "\n",
    "SD_cal_piv"
   ]
  },
  {
   "cell_type": "code",
   "execution_count": null,
   "id": "acquired-inventory",
   "metadata": {},
   "outputs": [],
   "source": [
    "SD_df = SD_cal_piv.merge(SD_lis, left_on='listing_id', right_on='id', how='inner', suffixes=('','_lis'))\n",
    "SD_df = SD_df.merge(SD_nei, on='neighbourhood', how='inner', suffixes=('','_nei'))\n",
    "print(SD_df.columns)\n",
    "SD_df.head(5)\n"
   ]
  },
  {
   "cell_type": "code",
   "execution_count": null,
   "id": "negative-destiny",
   "metadata": {},
   "outputs": [],
   "source": [
    "SD_poi_base = pd.read_csv(\"./San_Diego/SanDiegoPOI.csv\",header=None)[[0,1,2]]\n",
    "SD_poi_golf = pd.read_csv(\"./San_Diego/San Diego Golf Courses.csv\",header=None)[[0,1,2]]\n",
    "SD_poi_trol = pd.read_csv(\"./San_Diego/San Diego Trolley Stops.csv\",header=None)[[0,1,2]]\n",
    "SD_poi_bank = pd.read_csv(\"./San_Diego/San Diego County Credit Union.csv\",header=None)[[0,1,2]]\n",
    "SD_poi_kite = pd.read_csv(\"./San_Diego/KiteSDCA.csv\",header=None)[[0,1,2]]\n",
    "\n",
    "SD_poi = pd.concat([SD_poi_base, SD_poi_golf, SD_poi_trol,SD_poi_bank, SD_poi_kite])\n",
    "\n",
    "SD_poi.columns = ['POI_LNG','POI_LAT','POI_name']\n",
    "SD_poi"
   ]
  },
  {
   "cell_type": "code",
   "execution_count": null,
   "id": "guided-reservoir",
   "metadata": {},
   "outputs": [],
   "source": [
    "SD_poi_g = gpd.GeoDataFrame(SD_poi, geometry=gpd.points_from_xy(SD_poi.POI_LNG, SD_poi.POI_LAT), crs=\"EPSG:4326\")\n",
    "SD_poi_g = SD_poi_g.to_crs(\"EPSG:3310\")\n",
    "SD_poi_g"
   ]
  },
  {
   "cell_type": "code",
   "execution_count": null,
   "id": "large-facial",
   "metadata": {},
   "outputs": [],
   "source": [
    "SD_df_g = gpd.GeoDataFrame(SD_df, geometry=gpd.points_from_xy(SD_df.longitude, SD_df.latitude), crs=\"EPSG:4326\")\n",
    "SD_df_g = SD_df_g.to_crs(\"EPSG:3310\")\n",
    "SD_df_g.crs"
   ]
  },
  {
   "cell_type": "code",
   "execution_count": null,
   "id": "lovely-cheese",
   "metadata": {},
   "outputs": [],
   "source": [
    "SD_df_g['geometry'] = SD_df_g['geometry'].buffer(1600)\n",
    "SD_f = gpd.sjoin(SD_poi_g, SD_df_g, how='right', op='within').sort_values(by=['id','POI_name'])\n",
    "SD_f"
   ]
  },
  {
   "cell_type": "code",
   "execution_count": null,
   "id": "finished-mentor",
   "metadata": {},
   "outputs": [],
   "source": []
  },
  {
   "cell_type": "code",
   "execution_count": null,
   "id": "guided-vienna",
   "metadata": {},
   "outputs": [],
   "source": [
    "import math\n",
    "def caluclate_distance_haversine(store_a_longitude, store_a_latitude, store_b_longitude, store_b_latitude):\n",
    "\n",
    "    # Calculate Latitude and Longitude Difference\n",
    "    latitude_difference = (store_b_latitude - store_a_latitude) * math.pi / 180.0\n",
    "    longitude_difference = (store_b_longitude - store_a_longitude) * math.pi / 180.0\n",
    "  \n",
    "    # Convert decimal degrees to radians \n",
    "    store_a_latitude = (store_a_latitude) * math.pi / 180.0\n",
    "    store_b_latitude = (store_b_latitude) * math.pi / 180.0\n",
    "  \n",
    "    # Compute Haversine Formula\n",
    "    a = (pow(math.sin(latitude_difference / 2), 2) + \n",
    "         pow(math.sin(longitude_difference / 2), 2) * \n",
    "             math.cos(store_a_latitude) * math.cos(store_b_latitude)); \n",
    "    rad = 6371.0\n",
    "    c = 2 * math.asin(math.sqrt(a)) \n",
    "    return rad * c "
   ]
  },
  {
   "cell_type": "code",
   "execution_count": null,
   "id": "devoted-finnish",
   "metadata": {},
   "outputs": [],
   "source": [
    "fol_tmp = SD_f[['POI_LAT','POI_LNG','POI_name','id','latitude','longitude']]\n",
    "fol_tmp['hav_dist_km'] = fol_tmp.apply(lambda x: \n",
    "                                    caluclate_distance_haversine(float(x.POI_LAT), float(x.POI_LNG), float(x.latitude),float(x.longitude))\n",
    "                                    , axis=1)\n",
    "fol_tmp['hav_dist_mi'] = fol_tmp['hav_dist_km'] * 0.621371\n",
    "fol_tmp = fol_tmp[fol_tmp['id']==51036524]\n",
    "fol_tmp"
   ]
  },
  {
   "cell_type": "code",
   "execution_count": null,
   "id": "medium-reason",
   "metadata": {},
   "outputs": [],
   "source": [
    "import folium\n",
    "mapit=None\n",
    "mapit = folium.Map(location=[32.78481, -117.25313], zoom_start=13)\n",
    "\n",
    "tile = folium.TileLayer(\n",
    "        tiles = 'https://server.arcgisonline.com/ArcGIS/rest/services/World_Imagery/MapServer/tile/{z}/{y}/{x}',\n",
    "        attr = 'Esri',\n",
    "        name = 'Esri Satellite',\n",
    "        overlay = False,\n",
    "        control = True\n",
    "       ).add_to(mapit)\n",
    "\n",
    "small = 25\n",
    "fol_tmp.head(small).apply(lambda row:folium.Circle(location=[row[\"POI_LAT\"], row[\"POI_LNG\"]], \n",
    "                                              radius=10, fill_color='orange', color='orange',fill_opacity=1)\n",
    "                                             .add_to(mapit) if row[\"POI_LAT\"] else 0, axis=1)\n",
    "\n",
    "fol_tmp.head(small).apply(lambda row:folium.Circle(location=[row[\"latitude\"], row[\"longitude\"]], \n",
    "                                              radius=1600, fill_color='blue', fill_opacity=0.025)\n",
    "                                             .add_to(mapit), axis=1)\n",
    "fol_tmp.head(small).apply(lambda row:folium.Circle(location=[row[\"latitude\"], row[\"longitude\"]], \n",
    "                                              radius=10, fill_color='red', color='red', fill_opacity=1)\n",
    "                                             .add_to(mapit), axis=1)"
   ]
  },
  {
   "cell_type": "code",
   "execution_count": null,
   "id": "funky-alexandria",
   "metadata": {
    "scrolled": false
   },
   "outputs": [],
   "source": [
    "mapit"
   ]
  },
  {
   "cell_type": "code",
   "execution_count": null,
   "id": "ordered-drunk",
   "metadata": {},
   "outputs": [],
   "source": [
    "SD_f.columns"
   ]
  },
  {
   "cell_type": "code",
   "execution_count": null,
   "id": "virgin-switch",
   "metadata": {},
   "outputs": [],
   "source": [
    "SD_f.groupby(['listing_id','neighbourhood','room_type','Occupancy','NoVacancy'])\\\n",
    "        .agg({'POI_name':pd.Series.nunique}).reset_index()\\\n",
    "        .sort_values(by=['POI_name'], ascending=False)"
   ]
  },
  {
   "cell_type": "code",
   "execution_count": null,
   "id": "middle-fashion",
   "metadata": {},
   "outputs": [],
   "source": [
    "SD_f.to_csv(\"./SanDiego_nkm_v1.csv.gz\", compression='gzip')"
   ]
  },
  {
   "cell_type": "code",
   "execution_count": null,
   "id": "israeli-nerve",
   "metadata": {},
   "outputs": [],
   "source": []
  },
  {
   "cell_type": "code",
   "execution_count": null,
   "id": "peaceful-reset",
   "metadata": {},
   "outputs": [],
   "source": []
  },
  {
   "cell_type": "code",
   "execution_count": null,
   "id": "extended-maria",
   "metadata": {},
   "outputs": [],
   "source": []
  }
 ],
 "metadata": {
  "kernelspec": {
   "display_name": "Python 3",
   "language": "python",
   "name": "python3"
  },
  "language_info": {
   "codemirror_mode": {
    "name": "ipython",
    "version": 3
   },
   "file_extension": ".py",
   "mimetype": "text/x-python",
   "name": "python",
   "nbconvert_exporter": "python",
   "pygments_lexer": "ipython3",
   "version": "3.7.10"
  }
 },
 "nbformat": 4,
 "nbformat_minor": 5
}
